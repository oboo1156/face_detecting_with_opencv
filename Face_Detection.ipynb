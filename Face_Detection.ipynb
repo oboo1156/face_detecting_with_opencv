{
 "cells": [
  {
   "cell_type": "markdown",
   "id": "fc1cc630",
   "metadata": {},
   "source": [
    "# Face Detection Using OpenCV\n",
    "## OpenCV is a powerful python library for working with computer vision;You write few lines\n",
    "## of code using this powerful library.\n",
    "\n",
    "### We will use cv2 to detect faces of some of my friends and family by drawing rectangle around their faces"
   ]
  },
  {
   "cell_type": "code",
   "execution_count": 1,
   "id": "a7f94be7",
   "metadata": {},
   "outputs": [
    {
     "name": "stdout",
     "output_type": "stream",
     "text": [
      "Function is complete..\n"
     ]
    }
   ],
   "source": [
    "import cv2 # imported OpenCV library\n",
    "\n",
    "face_classifier = cv2.CascadeClassifier('downloads/haarcascade_frontalface_default.xml')#Haar Cascade classifier \n",
    "def face_detect(img, box=True):\n",
    "    '''a function to detect face so we  first get the image and convert it to grayscale to reduce computation power,\n",
    "    detect face and draw rectangle around face.Finally save the new detected faces in another folder'''\n",
    "    \n",
    "    grayscale = cv2.cvtColor(img, cv2.COLOR_BGR2GRAY) #converting original image to color gray to reduce computation power\n",
    "    faces = face_classifier.detectMultiScale(grayscale, scaleFactor=1.05, minNeighbors=13, minSize=(30,30))#detect face\n",
    "    \n",
    "    face_box, face_coords = None, []\n",
    "    for (x,y,w,h) in faces:\n",
    "        if box:\n",
    "            cv2.rectangle(img, (x,y), (x+w,y+h),(255,0,255), 4) #lets only loop the rectangular face\n",
    "    face_box = img[y:y+h, x:x+w]#crop\n",
    "    face_coords = [x,y,w,h] #coordinates\n",
    "        \n",
    "    return img #only returning the rectangular image for now. lets ignore the cropped face(face_box) and coordinates\n",
    "#(face_coords) for now\n",
    "\n",
    "print('Function is complete..')\n",
    "\n",
    "\n"
   ]
  },
  {
   "cell_type": "code",
   "execution_count": 2,
   "id": "672ef062",
   "metadata": {},
   "outputs": [
    {
     "name": "stdout",
     "output_type": "stream",
     "text": [
      "Done with face detection\n"
     ]
    }
   ],
   "source": [
    "import os #we will want to use the filepath where the images are so we import os\n",
    "\n",
    "files = os.listdir('desktop/sample_faces3')\n",
    "images = [file for file in files if '.' in file]\n",
    "for image in images:\n",
    "    img_read = cv2.imread('desktop/sample_faces3/' + image)#read the image into array for computation\n",
    "    detected_face = face_detect(img_read) #call our function\n",
    "    cv2.imwrite('desktop/sample_faces3/collections/' + image, detected_face) #save it in collections folder\n",
    "print('Done with face detection')\n",
    "    \n",
    "\n"
   ]
  }
 ],
 "metadata": {
  "kernelspec": {
   "display_name": "Python 3",
   "language": "python",
   "name": "python3"
  },
  "language_info": {
   "codemirror_mode": {
    "name": "ipython",
    "version": 3
   },
   "file_extension": ".py",
   "mimetype": "text/x-python",
   "name": "python",
   "nbconvert_exporter": "python",
   "pygments_lexer": "ipython3",
   "version": "3.8.5"
  }
 },
 "nbformat": 4,
 "nbformat_minor": 5
}
